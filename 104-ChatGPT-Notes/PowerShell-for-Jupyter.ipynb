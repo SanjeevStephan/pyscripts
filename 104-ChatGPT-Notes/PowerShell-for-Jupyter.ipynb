{
 "cells": [
  {
   "cell_type": "markdown",
   "metadata": {},
   "source": [
    "https://powershellisfun.com/2022/08/04/jupyter-notebooks-in-vscode-with-powershell-support/\n",
    "\n",
    "https://github.com/vors/jupyter-powershell\n",
    "\n"
   ]
  },
  {
   "cell_type": "markdown",
   "metadata": {},
   "source": []
  }
 ],
 "metadata": {
  "language_info": {
   "name": "python"
  },
  "orig_nbformat": 4
 },
 "nbformat": 4,
 "nbformat_minor": 2
}
