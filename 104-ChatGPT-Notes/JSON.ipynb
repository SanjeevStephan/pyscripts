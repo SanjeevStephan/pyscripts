{
 "cells": [
  {
   "cell_type": "markdown",
   "metadata": {},
   "source": [
    "## Working with JSON\n"
   ]
  },
  {
   "cell_type": "markdown",
   "metadata": {},
   "source": [
    "JSON (JavaScript Object Notation) is a popular data interchange format in Python and many other programming languages. Python provides built-in modules for working with JSON data, making it easy to encode (serialize) and decode (deserialize) JSON data.\n",
    "\n",
    "Here's a brief overview of how to work with JSON in Python:"
   ]
  },
  {
   "cell_type": "markdown",
   "metadata": {},
   "source": [
    "### Encoding (Serialization):\n",
    "\n",
    "You can convert Python data structures (such as `dictionaries, lists, and strings`) into a JSON string using the `json.dumps()` function:"
   ]
  },
  {
   "cell_type": "code",
   "execution_count": 1,
   "metadata": {
    "vscode": {
     "languageId": "powershell"
    }
   },
   "outputs": [
    {
     "ename": "SyntaxError",
     "evalue": "invalid syntax (2197585442.py, line 1)",
     "output_type": "error",
     "traceback": [
      "\u001b[1;36m  Cell \u001b[1;32mIn[1], line 1\u001b[1;36m\u001b[0m\n\u001b[1;33m    $cars = (\u001b[0m\n\u001b[1;37m    ^\u001b[0m\n\u001b[1;31mSyntaxError\u001b[0m\u001b[1;31m:\u001b[0m invalid syntax\n"
     ]
    }
   ],
   "source": [
    "$cars = (\n",
    "    \"Tesla\",\n",
    "    \"BMW\",\n",
    "    \"Ford Raptor\",\n",
    "    \"Creta \"\n",
    ")\n",
    "$cars_list_len = len($cars)\n",
    "\n",
    "for($i ; $i -lt $cars_list_len ; i++)\n",
    "{\n",
    "    Write-Host \"THe Car at Index $i is $($cars_list_len[$i])\"\n",
    "}"
   ]
  },
  {
   "cell_type": "code",
   "execution_count": null,
   "metadata": {
    "vscode": {
     "languageId": "powershell"
    }
   },
   "outputs": [],
   "source": []
  }
 ],
 "metadata": {
  "kernelspec": {
   "display_name": "Python 3",
   "language": "python",
   "name": "python3"
  },
  "language_info": {
   "codemirror_mode": {
    "name": "ipython",
    "version": 3
   },
   "file_extension": ".py",
   "mimetype": "text/x-python",
   "name": "python",
   "nbconvert_exporter": "python",
   "pygments_lexer": "ipython3",
   "version": "3.12.0b3"
  },
  "orig_nbformat": 4
 },
 "nbformat": 4,
 "nbformat_minor": 2
}
