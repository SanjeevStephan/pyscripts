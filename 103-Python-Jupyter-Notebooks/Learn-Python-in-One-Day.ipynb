{
 "cells": [
  {
   "cell_type": "markdown",
   "id": "aac24ef3-65cd-417f-802a-2bae57546a87",
   "metadata": {},
   "source": [
    "### Learn Python in One Day and Learn It Well\n",
    "Python for Beginners with Hands-on Project\n",
    "The only book you need to start coding in\n",
    "Python immediately\n",
    "By Jamie Chan"
   ]
  },
  {
   "cell_type": "markdown",
   "id": "3ba78f20-d3b3-4965-9ae0-abc77b391823",
   "metadata": {},
   "source": [
    "## Chapter - 3 : The World of Variables and Operators"
   ]
  },
  {
   "cell_type": "markdown",
   "id": "36f8a959-ae81-4aa9-a793-4b63315b6bc8",
   "metadata": {},
   "source": [
    "### What Are Variable ?\n",
    "Variables are names given to data that we need to store and manipulate \n",
    "in our program\n",
    "userAge = 18\r",
    "After you define the variable userAge, your program will allocate a \n",
    "certain area of your computer's storage space to store this data\n",
    " You ca \r\n",
    "then access and modify this data by referring to it by its name, userAge.\r\n",
    "Every time you declare a new variable, you need to give it an initial va.\n",
    "We can always change this value \n",
    "in our program later.\r",
    "lues"
   ]
  },
  {
   "cell_type": "markdown",
   "id": "0d3ad9e5-262e-4b5a-b384-901d206471c9",
   "metadata": {},
   "source": [
    "We can also define multiple variables at one go. To do that simply write"
   ]
  },
  {
   "cell_type": "code",
   "execution_count": 18,
   "id": "614514ab-d4e1-45dd-862c-2f76a8fe3307",
   "metadata": {},
   "outputs": [
    {
     "name": "stdout",
     "output_type": "stream",
     "text": [
      "User Age :  25\n",
      "User Name :  Stephan\n"
     ]
    }
   ],
   "source": [
    "userAge, userName = 25, 'Stephan'\n",
    "# This is Equivalent to \n",
    "# userAge = 30\n",
    "# userName = 'Stephan'\n",
    "print(\"User Age : \", userAge)\n",
    "print(\"User Name : \", userName)"
   ]
  },
  {
   "cell_type": "markdown",
   "id": "9ebd2c3b-35a6-4e6d-959d-9d95261f4c49",
   "metadata": {},
   "source": [
    "### Naming a Variable\n",
    "Finally, variable names are case sensitive. username is not the same as \n",
    "userName."
   ]
  },
  {
   "cell_type": "code",
   "execution_count": 19,
   "id": "153b8ed5-eb49-4b37-b99a-b01f50b6a94e",
   "metadata": {},
   "outputs": [
    {
     "name": "stdout",
     "output_type": "stream",
     "text": [
      "username :  Sanjeev\n",
      "userName :  Stephan\n"
     ]
    }
   ],
   "source": [
    "username = 'Sanjeev'\n",
    "userName = 'Stephan'\n",
    "\n",
    "print('username : ',username)\n",
    "print('userName : ',userName)\n"
   ]
  },
  {
   "cell_type": "markdown",
   "id": "15da0f72-96d1-4995-ae98-e2cf7406587c",
   "metadata": {},
   "source": [
    "There are two conventions when naming a variable in Python\n",
    "* Camel case-notion\n",
    "* Underscores"
   ]
  },
  {
   "cell_type": "markdown",
   "id": "7bf18324-4101-4462-9518-412a197817ec",
   "metadata": {},
   "source": [
    "| Camel Case | Underscores |\n",
    "|------------|-------------|\n",
    "| thisIsAVariable | this_is_a_variable | \n"
   ]
  },
  {
   "cell_type": "markdown",
   "id": "b90709c7-dffc-4981-9f41-c4c4ec13c09b",
   "metadata": {},
   "source": [
    "### The Assignment Sign\n",
    "Note that the = sign in the statement userAge = 0 has a different\r\n",
    "meaning from the = sign we learned in Math.\n",
    " In programming, the = sign\r\n",
    "is known as an assignment sign. It means we are assigning the value on\r\n",
    "the right side of the = sign to the variable on the le\n",
    "t. A good way to\r\n",
    "understand the statement userAge = 0 is to think of it as userAg  <-\r\n",
    "0.\r\n",
    "The statements x = y and y = x have very different meanings in\r\n",
    "programming.\r\n",
    "Confused? An example will likely clear this up."
   ]
  },
  {
   "cell_type": "code",
   "execution_count": 20,
   "id": "842e2e6e-1471-4529-9338-bd13122d8e66",
   "metadata": {},
   "outputs": [
    {
     "name": "stdout",
     "output_type": "stream",
     "text": [
      "The Value of 'x' is  10\n",
      "The Value of 'y' is  10\n"
     ]
    }
   ],
   "source": [
    "x = 5\n",
    "y = 10\n",
    "x = y \n",
    "print(f\"The Value of 'x' is \",x)\n",
    "print(f\"The Value of 'y' is \",y)\n",
    "# Now run the program. You should get this output \n",
    "# By Pressing ( Shift + Enter ) in Jupyter-Notebooks"
   ]
  },
  {
   "cell_type": "markdown",
   "id": "08023351-7981-4752-aeeb-a976e571058c",
   "metadata": {},
   "source": [
    "Although x has an initial value of 5 (declared on the first line), the third\n",
    "line x = y assigns the value of y to x (x <- y), hence changing the\n",
    "value of x to 10 while the value of y remains unchanged"
   ]
  },
  {
   "cell_type": "code",
   "execution_count": 21,
   "id": "37a66d56-1959-40c3-b00b-1d4c49c26dfc",
   "metadata": {},
   "outputs": [
    {
     "name": "stdout",
     "output_type": "stream",
     "text": [
      "The Value of x is a the Same  5\n",
      "The Value of y is Changed to  5\n"
     ]
    }
   ],
   "source": [
    "#  Change the third line from x = y to y = x. \n",
    "# Mathematically, x = y and y = x mean the same thing. However, this is not so in programming.\n",
    "x = 5 \n",
    "y = 10\n",
    "y = x\n",
    "print(f\"The Value of x is a the Same \", x )\n",
    "print(f\"The Value of y is Changed to \", y )"
   ]
  },
  {
   "cell_type": "markdown",
   "id": "43072a5d-bb7c-4cfd-9dd7-18f6b9c4ec14",
   "metadata": {},
   "source": [
    "### Basic Operators\n",
    "Besides assigning a variable an initial value, we can also perform the usual mathematical operations on variables. \n",
    "Basic operators in Python include \n",
    "| Operators     | Signs Used | \n",
    "|---------------|------------|\n",
    "| Addition      | ( + )      |\n",
    "| Substraction  | ( - )      |\n",
    "| Multiplication| ( * )      |\n",
    "| Division      | ( / )      |\n",
    "| Modulus       | ( % )      |\n",
    "| Exponent      | ( ** )     |\n",
    "\n",
    "\n",
    "* Floor Division: x//y = 2 (rounds down the answer to the nearest whole number)\n",
    "* Modulus: x%y = 1 (gives the remainder when 5 is divided by 2)\n",
    "* Exponent: x**y = 25 (5 to the power of 2)\n",
    "\n"
   ]
  },
  {
   "cell_type": "markdown",
   "id": "0df6a865-ae2f-4f32-87b3-ae61f8726254",
   "metadata": {},
   "source": [
    "### More Assignment Operators\n",
    "\n",
    "Besides the = sign, there are a few more assignment operators in Python \n",
    "(and most programming languages\n",
    "\n",
    "| More Assisgnment Operators | Signs | Same As   | \n",
    "|----------------------------|-------|-----------|\n",
    "|         Add To             |  +=   | X = X + 2 |\n",
    "|      Substract From        |  -=   | X = X - 2 |\n",
    "|      Multiply From         |  *=   | X = X * 2 |\n",
    "|      Divide From           |  /=   | X = X / 2 |\n",
    "\n",
    "The same works for all the 7 operators mentioned in the previous section.e\n",
    ")"
   ]
  },
  {
   "cell_type": "code",
   "execution_count": null,
   "id": "1ee2f5b5-53eb-487f-9a51-cf1de2b65d32",
   "metadata": {},
   "outputs": [],
   "source": []
  },
  {
   "cell_type": "code",
   "execution_count": null,
   "id": "332a5bc8-3cdb-4422-8a73-34b0be50c233",
   "metadata": {},
   "outputs": [],
   "source": []
  },
  {
   "cell_type": "code",
   "execution_count": null,
   "id": "bd818126-edcf-41eb-9fc3-ac9b8aafdb86",
   "metadata": {},
   "outputs": [],
   "source": []
  }
 ],
 "metadata": {
  "kernelspec": {
   "display_name": "Python 3 (ipykernel)",
   "language": "python",
   "name": "python3"
  },
  "language_info": {
   "codemirror_mode": {
    "name": "ipython",
    "version": 3
   },
   "file_extension": ".py",
   "mimetype": "text/x-python",
   "name": "python",
   "nbconvert_exporter": "python",
   "pygments_lexer": "ipython3",
   "version": "3.8.17"
  }
 },
 "nbformat": 4,
 "nbformat_minor": 5
}
