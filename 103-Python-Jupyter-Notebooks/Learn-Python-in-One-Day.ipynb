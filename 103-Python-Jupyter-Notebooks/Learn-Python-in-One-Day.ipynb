{
 "cells": [
  {
   "cell_type": "markdown",
   "id": "aac24ef3-65cd-417f-802a-2bae57546a87",
   "metadata": {},
   "source": [
    "### Learn Python in One Day and Learn It Well\n",
    "Python for Beginners with Hands-on Project\n",
    "The only book you need to start coding in\n",
    "Python immediately\n",
    "By Jamie Chan"
   ]
  },
  {
   "cell_type": "markdown",
   "id": "3ba78f20-d3b3-4965-9ae0-abc77b391823",
   "metadata": {},
   "source": [
    "## Chapter - 3 : The World of Variables and Operators"
   ]
  },
  {
   "cell_type": "markdown",
   "id": "36f8a959-ae81-4aa9-a793-4b63315b6bc8",
   "metadata": {},
   "source": [
    "### What Are Variable ?\n",
    "Variables are names given to data that we need to store and manipulate \n",
    "in our program\n",
    "userAge = 18\n",
    "After you define the variable userAge, your program will allocate a \n",
    "certain area of your computer's storage space to store this data\n",
    " You can then access and modify this data by referring to it by its name, userAge.\n",
    "Every time you declare a new variable, you need to give it an initial value.\n",
    "We can always change this value \n",
    "in our program later."
   ]
  },
  {
   "cell_type": "markdown",
   "id": "0d3ad9e5-262e-4b5a-b384-901d206471c9",
   "metadata": {},
   "source": [
    "We can also define multiple variables at one go. To do that simply write"
   ]
  },
  {
   "cell_type": "code",
   "execution_count": 8,
   "id": "614514ab-d4e1-45dd-862c-2f76a8fe3307",
   "metadata": {},
   "outputs": [
    {
     "name": "stdout",
     "output_type": "stream",
     "text": [
      "User Age :  25\n",
      "User Name :  Sanjiv\n"
     ]
    }
   ],
   "source": [
    "userAge, userName = 25, 'Sanjiv'\n",
    "# This is Equivalent to \n",
    "# userAge = 30\n",
    "# userName = 'Stephan'\n",
    "print(\"User Age : \", userAge)\n",
    "print(\"User Name : \", userName)"
   ]
  },
  {
   "cell_type": "code",
   "execution_count": 1,
   "id": "59fdc2d2",
   "metadata": {},
   "outputs": [
    {
     "name": "stdout",
     "output_type": "stream",
     "text": [
      "Car Brand : Lamborgini | Car Name : Aventador \n"
     ]
    }
   ],
   "source": [
    "carBrand, carName = \"Lamborgini\", \"Aventador\"\n",
    "\n",
    "print(\"Car Brand : {} | Car Name : {} \" .format(carBrand,carName))"
   ]
  },
  {
   "cell_type": "markdown",
   "id": "9ebd2c3b-35a6-4e6d-959d-9d95261f4c49",
   "metadata": {},
   "source": [
    "### Naming a Variable\n",
    "Finally, variable names are case sensitive. username is not the same as \n",
    "userName."
   ]
  },
  {
   "cell_type": "code",
   "execution_count": 17,
   "id": "153b8ed5-eb49-4b37-b99a-b01f50b6a94e",
   "metadata": {},
   "outputs": [
    {
     "name": "stdout",
     "output_type": "stream",
     "text": [
      "username :  Sanjeev\n",
      "userName :  Stephan\n"
     ]
    }
   ],
   "source": [
    "username = 'Sanjeev'\n",
    "userName = 'Stephan'\n",
    "\n",
    "print('username : ',username)\n",
    "print('userName : ',userName)\n"
   ]
  },
  {
   "cell_type": "markdown",
   "id": "15da0f72-96d1-4995-ae98-e2cf7406587c",
   "metadata": {},
   "source": [
    "There are two conventions when naming a variable in Python\n",
    "* Camel case-notion\n",
    "* Underscores"
   ]
  },
  {
   "cell_type": "markdown",
   "id": "7bf18324-4101-4462-9518-412a197817ec",
   "metadata": {},
   "source": [
    "| Camel Case | Underscores |\n",
    "|------------|-------------|\n",
    "| thisIsAVariable | this_is_a_variable | \n"
   ]
  },
  {
   "cell_type": "markdown",
   "id": "b90709c7-dffc-4981-9f41-c4c4ec13c09b",
   "metadata": {},
   "source": [
    "### The Assignment Sign\n",
    "Note that the = sign in the statement userAge = 0 has a different\n",
    "meaning from the = sign we learned in Math.\n",
    " In programming, the = sign\n",
    "is known as an assignment sign. It means we are assigning the value on\n",
    "the right side of the = sign to the variable on the le\n",
    "t. A good way to\n",
    "understand the statement userAge = 0 is to think of it as userAg  <-\n",
    "0.\n",
    "The statements x = y and y = x have very different meanings in\n",
    "programming.\n",
    "Confused? An example will likely clear this up."
   ]
  },
  {
   "cell_type": "code",
   "execution_count": 18,
   "id": "842e2e6e-1471-4529-9338-bd13122d8e66",
   "metadata": {},
   "outputs": [
    {
     "name": "stdout",
     "output_type": "stream",
     "text": [
      "The Value of 'x' is  10\n",
      "The Value of 'y' is  10\n"
     ]
    }
   ],
   "source": [
    "x = 5\n",
    "y = 10\n",
    "x = y \n",
    "print(f\"The Value of 'x' is \",x)\n",
    "print(f\"The Value of 'y' is \",y)\n",
    "# Now run the program. You should get this output \n",
    "# By Pressing ( Shift + Enter ) in Jupyter-Notebooks"
   ]
  },
  {
   "cell_type": "markdown",
   "id": "08023351-7981-4752-aeeb-a976e571058c",
   "metadata": {},
   "source": [
    "Although x has an initial value of 5 (declared on the first line), the third\n",
    "line x = y assigns the value of y to x (x <- y), hence changing the\n",
    "value of x to 10 while the value of y remains unchanged"
   ]
  },
  {
   "cell_type": "code",
   "execution_count": 7,
   "id": "37a66d56-1959-40c3-b00b-1d4c49c26dfc",
   "metadata": {},
   "outputs": [
    {
     "name": "stdout",
     "output_type": "stream",
     "text": [
      "The Value of x is a the Same  60\n",
      "The Value of y is Changed to  60\n"
     ]
    }
   ],
   "source": [
    "#  Change the third line from x = y to y = x. \n",
    "# Mathematically, x = y and y = x mean the same thing. However, this is not so in programming.\n",
    "x = 60 \n",
    "y = 10\n",
    "y = x\n",
    "print(f\"The Value of x is a the Same \", x )\n",
    "print(f\"The Value of y is Changed to \", y )"
   ]
  },
  {
   "cell_type": "markdown",
   "id": "43072a5d-bb7c-4cfd-9dd7-18f6b9c4ec14",
   "metadata": {},
   "source": [
    "### Basic Operators\n",
    "Besides assigning a variable an initial value, we can also perform the usual mathematical operations on variables. \n",
    "Basic operators in Python include \n",
    "| Operators     | Signs Used | \n",
    "|---------------|------------|\n",
    "| Addition      | ( + )      |\n",
    "| Substraction  | ( - )      |\n",
    "| Multiplication| ( * )      |\n",
    "| Division      | ( / )      |\n",
    "| Modulus       | ( % )      |\n",
    "| Exponent      | ( ** )     |\n",
    "\n",
    "\n",
    "* Floor Division: x//y = 2 (rounds down the answer to the nearest whole number)\n",
    "* Modulus: x%y = 1 (gives the remainder when 5 is divided by 2)\n",
    "* Exponent: x**y = 25 (5 to the power of 2)\n",
    "\n"
   ]
  },
  {
   "cell_type": "markdown",
   "id": "0df6a865-ae2f-4f32-87b3-ae61f8726254",
   "metadata": {},
   "source": [
    "### More Assignment Operators\n",
    "\n",
    "Besides the = sign, there are a few more assignment operators in Python \n",
    "(and most programming languages\n",
    "\n",
    "| More Assisgnment Operators | Signs | Same As   | \n",
    "|----------------------------|-------|-----------|\n",
    "|         Add To             |  +=   | X = X + 2 |\n",
    "|      Substract From        |  -=   | X = X - 2 |\n",
    "|      Multiply From         |  *=   | X = X * 2 |\n",
    "|      Divide From           |  /=   | X = X / 2 |\n",
    "\n",
    "The same works for all the 7 operators mentioned in the previous section.e\n",
    ")"
   ]
  },
  {
   "cell_type": "markdown",
   "id": "e23f0d54-d03c-492c-b618-64592c5143b9",
   "metadata": {},
   "source": [
    "## Data-Types in Python\n",
    "\n",
    "Basic Data-Types\n",
    "* Integers\n",
    "* Float\n",
    "* Strings\n",
    "* Double\n",
    "\n",
    "Advanced Data-Types\n",
    "* List\n",
    "* Tuple\n",
    "* Dictionary"
   ]
  },
  {
   "cell_type": "markdown",
   "id": "0a891dea-179f-47cb-a687-d1eb4d76bf7e",
   "metadata": {},
   "source": [
    "### Integers \n",
    "Integers are numbers with no decimal parts, such as -5, -4, -3, 0, 5, 7 etc"
   ]
  },
  {
   "cell_type": "code",
   "execution_count": 20,
   "id": "bd818126-edcf-41eb-9fc3-ac9b8aafdb86",
   "metadata": {},
   "outputs": [
    {
     "name": "stdout",
     "output_type": "stream",
     "text": [
      "The Value of 'userAge'  :  20\n",
      "The Value of 'mobileNumber:  987654321\n"
     ]
    }
   ],
   "source": [
    "# To declare an integer in Python, simply write \n",
    "# variableName  = initial value\n",
    "\n",
    "userAge = 20\n",
    "mobileNumber = 987654321\n",
    "\n",
    "print(\"The Value of 'userAge'  : \" , userAge)\n",
    "print(\"The Value of 'mobileNumber: \", mobileNumber)"
   ]
  },
  {
   "cell_type": "markdown",
   "id": "4a52f642-7ea9-4477-8f88-2af0af2022e0",
   "metadata": {},
   "source": [
    "### Float\n",
    "Float refers to numbers that have decimal parts, such as 1.234, -0.023, \n",
    "12.01"
   ]
  },
  {
   "cell_type": "code",
   "execution_count": 21,
   "id": "c700de31-aa51-4021-afd4-ac330c52b9ee",
   "metadata": {},
   "outputs": [],
   "source": [
    "# Example\n",
    "userHeight = 1.82 \n",
    "userWeight =  67.2"
   ]
  },
  {
   "cell_type": "markdown",
   "id": "66a1d74f-c8be-4e16-87d6-61d136d3c540",
   "metadata": {},
   "source": [
    "### String\n",
    "String refres to Text."
   ]
  },
  {
   "cell_type": "code",
   "execution_count": 22,
   "id": "a66101e5-800d-4b00-a303-df117abcf154",
   "metadata": {},
   "outputs": [],
   "source": [
    "# To declare a string, you can either use\n",
    "variableName = 'initial value' # ( Single Quotes )\n",
    "variableName = \"Initial Value\" # ( Double Quotes )"
   ]
  },
  {
   "cell_type": "code",
   "execution_count": 23,
   "id": "6ba579f7-d836-42ec-9a76-c88669dbf76e",
   "metadata": {},
   "outputs": [
    {
     "name": "stdout",
     "output_type": "stream",
     "text": [
      "The Data-Type of userAge = 30 is  <class 'int'>\n",
      "The Data-Type of userAge = '30' is <class 'str'>\n"
     ]
    }
   ],
   "source": [
    "# Examples \n",
    "userName = \"Stephan\"\n",
    "userOS  = \" Kali Linux\"\n",
    "\n",
    "userAge = 30 # Integer -> without-quotes ( ' ' )\n",
    "print(f\"The Data-Type of userAge = 30 is \",type(userAge))\n",
    "userAge = '30' # Strings -> with-quotes ( ' ' )\n",
    "print(f\"The Data-Type of userAge = '30' is\", type(userAge))"
   ]
  },
  {
   "cell_type": "markdown",
   "id": "cad26119-9711-45ec-9378-3684e22f7b22",
   "metadata": {},
   "source": [
    "#### Formatting Strings using the % Operator"
   ]
  },
  {
   "cell_type": "code",
   "execution_count": 24,
   "id": "f6c836a8-549b-42ee-8ef5-4c7b9dde810e",
   "metadata": {},
   "outputs": [
    {
     "name": "stdout",
     "output_type": "stream",
     "text": [
      "The price of this Apple laptop is 1299 USD and the exchange rate is 1.24 USD to 1 EUR\n"
     ]
    }
   ],
   "source": [
    "brand = 'Apple'\n",
    "exchangeRate = 1.235235245\n",
    "message = 'The price of this %s laptop is %d USD and the exchange rate is %4.2f USD to 1 EUR' %(brand, 1299, exchangeRate)\n",
    "print (message)\n"
   ]
  },
  {
   "cell_type": "markdown",
   "id": "3ae13b24-b3d9-44eb-9a52-4918b4738a90",
   "metadata": {},
   "source": [
    "The %s formatter is used to represent a string (“Apple” in this case) while\n",
    "the %d formatter represents an integer (1299). If we want to add spaces\n",
    "before an integer, we can add a number between % and d to indicate the\n",
    "desired length of the string. For instance “%5d” %(123) will give us “\n",
    "123” (with 2 spaces in front and a total length of 5).\n"
   ]
  },
  {
   "cell_type": "markdown",
   "id": "e3c42bd5-40c1-42b1-a990-1f40f4bf15d6",
   "metadata": {},
   "source": [
    "#### Built-in Strings Functions\n",
    "Python includes a number of built-in functions to manipulate strings. A\n",
    "function is simply a block of reusable code that performs a certain task"
   ]
  },
  {
   "cell_type": "code",
   "execution_count": 25,
   "id": "e5a0cde3-16aa-40c3-bcd9-0ed5d723186e",
   "metadata": {},
   "outputs": [],
   "source": [
    "# Lets look all the Built-in Strings Functions\n",
    "userName = 'sanjeev stephan'"
   ]
  },
  {
   "cell_type": "code",
   "execution_count": 26,
   "id": "114ddb67-74db-4625-90f5-64cc861b6cd0",
   "metadata": {},
   "outputs": [
    {
     "data": {
      "text/plain": [
       "15"
      ]
     },
     "execution_count": 26,
     "metadata": {},
     "output_type": "execute_result"
    }
   ],
   "source": [
    "# 1. len(Strings ) -> Returns the length (the number of characters) of a string.\n",
    "len(userName)"
   ]
  },
  {
   "cell_type": "code",
   "execution_count": 27,
   "id": "598384bb-bd29-4955-9370-e9d7b587f41f",
   "metadata": {},
   "outputs": [
    {
     "data": {
      "text/plain": [
       "'SANJEEV STEPHAN'"
      ]
     },
     "execution_count": 27,
     "metadata": {},
     "output_type": "execute_result"
    }
   ],
   "source": [
    "# 2. string.upper() -> Returns a copy of the string with all characters in uppercase.\n",
    "userName.upper()"
   ]
  },
  {
   "cell_type": "code",
   "execution_count": 28,
   "id": "541d44c3-5ee7-47b1-97d4-f9b07b5e7570",
   "metadata": {},
   "outputs": [
    {
     "data": {
      "text/plain": [
       "'sanjeev stephan'"
      ]
     },
     "execution_count": 28,
     "metadata": {},
     "output_type": "execute_result"
    }
   ],
   "source": [
    "# 3. string.lower(): Returns a copy of the string with all characters in lowercase.\n",
    "userName.lower()"
   ]
  },
  {
   "cell_type": "code",
   "execution_count": 29,
   "id": "661ef598-a60c-4001-99bf-f0076c0e3c00",
   "metadata": {},
   "outputs": [
    {
     "data": {
      "text/plain": [
       "'Sanjeev stephan'"
      ]
     },
     "execution_count": 29,
     "metadata": {},
     "output_type": "execute_result"
    }
   ],
   "source": [
    "# 4 string.capitalize(): Returns a copy of the string with the first character capitalized and the rest in lowercase.\n",
    "userName.capitalize()"
   ]
  },
  {
   "cell_type": "code",
   "execution_count": 30,
   "id": "260bcfd2-fae8-4b4a-9ac5-ee64a80ab454",
   "metadata": {},
   "outputs": [
    {
     "data": {
      "text/plain": [
       "'Sanjeev Stephan'"
      ]
     },
     "execution_count": 30,
     "metadata": {},
     "output_type": "execute_result"
    }
   ],
   "source": [
    "# 5. string.title(): Returns a copy of the string with the first character of each word capitalized and the rest in lowercase.\n",
    "userName.title()"
   ]
  },
  {
   "cell_type": "code",
   "execution_count": 31,
   "id": "cf7a6696-1bad-4c18-8d1c-f537605be78f",
   "metadata": {},
   "outputs": [
    {
     "name": "stdout",
     "output_type": "stream",
     "text": [
      "Without '%' on both sides :   lamborgini \n",
      "Without ' ' on both sides :  lamborgini\n"
     ]
    }
   ],
   "source": [
    "# 6. string.strip([characters]): Returns a copy of the string with leading and trailing characters removed (default is whitespace).\n",
    "carName = \"% lamborgini %\"\n",
    "percentageStripped = carName.strip(\"%\")\n",
    "print(\"Without '%' on both sides : \",percentageStripped)\n",
    "whiteSpaceStripped = percentageStripped.strip()\n",
    "print(\"Without ' ' on both sides : \",whiteSpaceStripped)"
   ]
  },
  {
   "cell_type": "code",
   "execution_count": 5,
   "id": "f5f1023d",
   "metadata": {},
   "outputs": [
    {
     "name": "stdout",
     "output_type": "stream",
     "text": [
      "Removed '@' :   hello Wold ##\n",
      "Removed '#' :   hello Wold \n",
      "Removed ' ' :  hello Wold\n"
     ]
    }
   ],
   "source": [
    "justAnotherName = \"@@ hello Wold ##\"\n",
    "removedFirstSign = justAnotherName.strip(\"@\")\n",
    "removeSecondSign = removedFirstSign.strip(\"#\")\n",
    "removedSpace = removeSecondSign.strip(\" \")\n",
    "print(\"Removed '@' : \", removedFirstSign)\n",
    "print(\"Removed '#' : \", removeSecondSign)\n",
    "print(\"Removed ' ' : \" , removedSpace)\n"
   ]
  },
  {
   "cell_type": "code",
   "execution_count": 32,
   "id": "86e5be02-bb5e-4fba-a1ce-10e03c12159e",
   "metadata": {},
   "outputs": [
    {
     "name": "stdout",
     "output_type": "stream",
     "text": [
      "Remove '%' from Leading-Side :   lamborgini %\n"
     ]
    }
   ],
   "source": [
    "# 7. string.lstrip([characters]): Returns a copy of the string with leading characters removed (default is whitespace).\n",
    "print(\"Remove '%' from Leading-Side : \", carName.lstrip(\"%\"))"
   ]
  },
  {
   "cell_type": "code",
   "execution_count": 33,
   "id": "7d561617-7417-4b72-812e-8e75f65b4fff",
   "metadata": {},
   "outputs": [
    {
     "name": "stdout",
     "output_type": "stream",
     "text": [
      "Remove '%' from Trailing-Side :  % lamborgini \n"
     ]
    }
   ],
   "source": [
    "# 7. string.rstrip([characters]): Returns a copy of the string with trailing characters removed (default is whitespace).\n",
    "print(\"Remove '%' from Trailing-Side : \", carName.rstrip(\"%\"))"
   ]
  },
  {
   "cell_type": "code",
   "execution_count": 34,
   "id": "56da6faa-158e-4d1f-848a-983bf0709e49",
   "metadata": {},
   "outputs": [
    {
     "name": "stdout",
     "output_type": "stream",
     "text": [
      "Before 'carName.replace(old,new)' :  %%%% % %%% lamborgini aventador % % %%% \n",
      "After  'carName.replace(old,new) :     lamborgini aventador    \n",
      "With    Spaces :    lamborgini aventador    \n",
      "Without Spaces : lamborginiaventador\n"
     ]
    }
   ],
   "source": [
    "# 8. string.replace(old, new): Replaces all occurrences of the old substring with the new substring (default is all occurrences)\n",
    "carName = \"%%%% % %%% lamborgini aventador % % %%% \"\n",
    "print(\"Before 'carName.replace(old,new)' : \",carName)\n",
    "percentageRemoved = carName.replace('%','')\n",
    "print(\"After  'carName.replace(old,new) : \", percentageRemoved )\n",
    "spaceRemoved = percentageRemoved.replace(' ','')\n",
    "print(\"With    Spaces :\", percentageRemoved )\n",
    "print(\"Without Spaces :\", spaceRemoved )"
   ]
  },
  {
   "cell_type": "code",
   "execution_count": 6,
   "id": "69cbbe87",
   "metadata": {},
   "outputs": [
    {
     "name": "stdout",
     "output_type": "stream",
     "text": [
      "Output of Result :  True\n",
      "The String Startws with Hello\n"
     ]
    }
   ],
   "source": [
    "# 9. string.startswith(prefix[, start[, end]]): Returns True if the string starts with the specified prefix (substring).\n",
    "text = \"Hello, Python!\"\n",
    "\n",
    "# Check if the string starts with a prefix\n",
    "result = text.startswith(\"Hello\")\n",
    "print(\"Output of Result : \", result)\n",
    "# print the Result\n",
    "\n",
    "if result:\n",
    "    print(f\"The String Startws with Hello\")\n",
    "else:\n",
    "    print(f\"The String doesn't Starts with Hello!\")"
   ]
  },
  {
   "cell_type": "code",
   "execution_count": 36,
   "id": "88fee088",
   "metadata": {},
   "outputs": [
    {
     "name": "stdout",
     "output_type": "stream",
     "text": [
      "The String Ends with Python\n"
     ]
    }
   ],
   "source": [
    "# 10. string.endswith(suffix[, start[, end]]): Returns True if the string ends with the specified suffix (substring).\n",
    "\n",
    "# check if the string ends with a prefix\n",
    "result = text.endswith(\"Python!\")\n",
    "\n",
    "# print the result\n",
    "if result:\n",
    "    print(f\"The String Ends with Python\")\n",
    "else:\n",
    "    print(f\"The Strings Doesn't Ends with Python\")\n"
   ]
  },
  {
   "cell_type": "code",
   "execution_count": 37,
   "id": "eaab8d55",
   "metadata": {},
   "outputs": [
    {
     "name": "stdout",
     "output_type": "stream",
     "text": [
      "['This', 'is', 'a', 'simple', 'text', 'which', 'we', 'will', 'split!']\n"
     ]
    }
   ],
   "source": [
    "# 11. string.split([separator[, maxsplit]]): Splits the string into a list of substrings using the specified separator (default is whitespace).\n",
    "# You can also specify the maximum number of splits.\n",
    "\n",
    "textToSplit = \"This is a simple text which we will split!\"\n",
    "\n",
    "textSplitted = textToSplit.split()\n",
    "print(textSplitted)\n"
   ]
  },
  {
   "cell_type": "code",
   "execution_count": 38,
   "id": "c4883f79",
   "metadata": {},
   "outputs": [
    {
     "name": "stdout",
     "output_type": "stream",
     "text": [
      "=This is a sample text>This is a sample text This is a sample textTThis is a sample texteThis is a sample textxThis is a sample texttThis is a sample text This is a sample textJThis is a sample textuThis is a sample textsThis is a sample texttThis is a sample text This is a sample textjThis is a sample textoThis is a sample textiThis is a sample textnThis is a sample text This is a sample textNThis is a sample textoThis is a sample textwThis is a sample text This is a sample text3\n"
     ]
    }
   ],
   "source": [
    "# 12. string.join(iterable): Concatenates elements of an iterable (e.g., a list) into a single string, using the original string as a separator.\n",
    "sampleText = \"This is a sample text\"\n",
    "justAnotherText = \"=> Text Just join Now 3\"\n",
    "textJoined = sampleText.join(justAnotherText)\n",
    "print(textJoined)\n"
   ]
  },
  {
   "cell_type": "code",
   "execution_count": 39,
   "id": "cef3e1bb",
   "metadata": {},
   "outputs": [],
   "source": [
    "# 13. string.find(sub[, start[, end]]): Searches for the first occurrence of the substring sub and returns its index. If not found, returns -1."
   ]
  },
  {
   "cell_type": "code",
   "execution_count": 40,
   "id": "ebeef489",
   "metadata": {},
   "outputs": [],
   "source": [
    "# 14. string.count(sub[, start[, end]]): Returns the number of non-overlapping occurrences of the substring sub in the string."
   ]
  },
  {
   "cell_type": "code",
   "execution_count": 41,
   "id": "4751ed96",
   "metadata": {},
   "outputs": [
    {
     "name": "stdout",
     "output_type": "stream",
     "text": [
      "This text is not an Alphabet\n"
     ]
    }
   ],
   "source": [
    "# 15. string.isalpha(): Returns True if all characters in the string are alphabetic.\n",
    "alphabetText = \"This is an Alphabet Text\"\n",
    "isThisAlphabet = alphabetText.isalpha()\n",
    "if isThisAlphabet:\n",
    "    print(f\"This text is an Alphabet\")\n",
    "else:\n",
    "    print(f\"This text is not an Alphabet\")\n",
    "\n",
    "    "
   ]
  },
  {
   "cell_type": "code",
   "execution_count": 42,
   "id": "0b32c401",
   "metadata": {},
   "outputs": [
    {
     "name": "stdout",
     "output_type": "stream",
     "text": [
      "This is a digit Text :  123455\n",
      "This is not a digit text :  This is an Alphabet Text\n"
     ]
    }
   ],
   "source": [
    "# 16. string.isdigit(): Returns True if all characters in the string are digits.\n",
    "digitText = \"123455\"\n",
    "\n",
    "isThisTextDigit = digitText.isdigit()\n",
    "# check for digit text -> digitText\n",
    "if isThisTextDigit:\n",
    "    print(f\"This is a digit Text : \",digitText)\n",
    "else:\n",
    "    print(f\"This is not a digit text : \",digitText)\n",
    "\n",
    "isThisTextDigit = alphabetText.isdigit()\n",
    "# check for digit text -> digitText\n",
    "if isThisTextDigit:\n",
    "    print(f\"This is a digit Text : \",alphabetText)\n",
    "else:\n",
    "    print(f\"This is not a digit text : \",alphabetText)\n",
    "\n",
    "\n"
   ]
  },
  {
   "cell_type": "code",
   "execution_count": 43,
   "id": "d0b584ca",
   "metadata": {},
   "outputs": [],
   "source": [
    "# 17. string.isalnum(): Returns True if all characters in the string are alphanumeric.\n",
    "\n",
    "# 18. string.isupper(): Returns True if all characters in the string are uppercase letters.\n",
    "\n",
    "# 19. string.islower(): Returns True if all characters in the string are lowercase letters.\n",
    "\n",
    "# 20. string.isspace(): Returns True if all characters in the string are whitespace characters."
   ]
  },
  {
   "cell_type": "markdown",
   "id": "037a8bde",
   "metadata": {},
   "source": [
    "### Formatting Strings using the format() method\n",
    "In addition to using the % operator to format strings, Python also provides us with the format() method to format strings. The syntax is"
   ]
  },
  {
   "cell_type": "code",
   "execution_count": 44,
   "id": "60a8a9d9",
   "metadata": {},
   "outputs": [
    {
     "name": "stdout",
     "output_type": "stream",
     "text": [
      "Hello Friends, My Name is Stephan , I am 25 year old and I am from India\n"
     ]
    }
   ],
   "source": [
    "# Syntax\n",
    "# “string to be formatted”.format(values or variables to be inserted into string, separated by commas)\n",
    "\n",
    "messageToFormat = \"Hello Friends, My Name is {} , I am {} year old and I am from {}\" .format('Stephan',25,'India')\n",
    "print(messageToFormat)\n",
    "\n",
    "# Here we do not have to specify the position of the parameters. \n",
    "# The interpreter will replace the curly brackets based on the order of the parameters provided. We’ll get"
   ]
  },
  {
   "cell_type": "code",
   "execution_count": 45,
   "id": "732b7666",
   "metadata": {},
   "outputs": [
    {
     "name": "stdout",
     "output_type": "stream",
     "text": [
      "Python is Easy and Fun to Learn, then Java\n",
      "Java is Easy and Fun to Learn, then Python\n"
     ]
    }
   ],
   "source": [
    "# To get a better understanding of the positional parameter format() method, try the following program.\n",
    "messageOne = \"{0} is Easy and Fun to Learn, then {1}\" .format('Python','Java')\n",
    "messageTwo = \"{1} is Easy and Fun to Learn, then {0}\" .format('Python','Java')\n",
    "print(messageOne)\n",
    "print(messageTwo)"
   ]
  },
  {
   "cell_type": "markdown",
   "id": "515da2b3",
   "metadata": {},
   "source": [
    "You can use the Python Shell to experiment with the format() method.\n",
    "Try typing in various strings and see what you ge"
   ]
  },
  {
   "cell_type": "markdown",
   "id": "b5b59016",
   "metadata": {},
   "source": [
    "### Type Casting In Python\n",
    "Sometimes in our program, it is necessary for us to convert from one data type to another, such as from an integer to a string.\n",
    "This is known as type casting.\n",
    "\n",
    "There are three built-in functions in Python that allow us to do type casting\n",
    "\n",
    "| Type Casting Function | What does it Do |\n",
    "|-----------------------|--------------------|\n",
    "| int()                 | => takes in a float or an appropriate string and converts it to an integer |\n",
    "| float()               | => takes in an integer or an appropriate string and changes it to a float.  | \n",
    "| str()                 | => converts an integer or a float to a string | "
   ]
  },
  {
   "cell_type": "code",
   "execution_count": 46,
   "id": "5d10f312",
   "metadata": {},
   "outputs": [
    {
     "data": {
      "text/plain": [
       "5"
      ]
     },
     "execution_count": 46,
     "metadata": {},
     "output_type": "execute_result"
    }
   ],
   "source": [
    "# The int() function in Python takes in a float or an appropriate string and converts it to an integer\n",
    "# To change a float to an integer, we can type\n",
    "int(5.712987)\n",
    "# We’ll get 5 as the result (anything after the decimal point is removed)"
   ]
  },
  {
   "cell_type": "code",
   "execution_count": 47,
   "id": "6c170e8c",
   "metadata": {},
   "outputs": [
    {
     "data": {
      "text/plain": [
       "4"
      ]
     },
     "execution_count": 47,
     "metadata": {},
     "output_type": "execute_result"
    }
   ],
   "source": [
    "# To change a string to an integer, we can type\n",
    "int(\"4\")"
   ]
  },
  {
   "cell_type": "code",
   "execution_count": 48,
   "id": "5f0084f5",
   "metadata": {},
   "outputs": [
    {
     "ename": "ValueError",
     "evalue": "invalid literal for int() with base 10: '4.2232'",
     "output_type": "error",
     "traceback": [
      "\u001b[1;31m---------------------------------------------------------------------------\u001b[0m",
      "\u001b[1;31mValueError\u001b[0m                                Traceback (most recent call last)",
      "\u001b[1;32mc:\\Users\\Samst\\OneDrive\\Documents\\GitHub\\pyscripts\\103-Python-Jupyter-Notebooks\\Learn-Python-in-One-Day.ipynb Cell 54\u001b[0m line \u001b[0;36m2\n\u001b[0;32m      <a href='vscode-notebook-cell:/c%3A/Users/Samst/OneDrive/Documents/GitHub/pyscripts/103-Python-Jupyter-Notebooks/Learn-Python-in-One-Day.ipynb#Y104sZmlsZQ%3D%3D?line=0'>1</a>\u001b[0m \u001b[39m# However, we cannot type int (“Hello”) or\u001b[39;00m\n\u001b[1;32m----> <a href='vscode-notebook-cell:/c%3A/Users/Samst/OneDrive/Documents/GitHub/pyscripts/103-Python-Jupyter-Notebooks/Learn-Python-in-One-Day.ipynb#Y104sZmlsZQ%3D%3D?line=1'>2</a>\u001b[0m \u001b[39mint\u001b[39;49m(\u001b[39m'\u001b[39;49m\u001b[39m4.2232\u001b[39;49m\u001b[39m'\u001b[39;49m)\n\u001b[0;32m      <a href='vscode-notebook-cell:/c%3A/Users/Samst/OneDrive/Documents/GitHub/pyscripts/103-Python-Jupyter-Notebooks/Learn-Python-in-One-Day.ipynb#Y104sZmlsZQ%3D%3D?line=2'>3</a>\u001b[0m \u001b[39m# We’ll get an error in both cases.s\u001b[39;00m\n",
      "\u001b[1;31mValueError\u001b[0m: invalid literal for int() with base 10: '4.2232'"
     ]
    }
   ],
   "source": [
    "# However, we cannot type int (“Hello”) or\n",
    "int('4.2232')\n",
    "# We’ll get an error in both cases.s"
   ]
  },
  {
   "cell_type": "code",
   "execution_count": null,
   "id": "d0c290b3",
   "metadata": {},
   "outputs": [
    {
     "data": {
      "text/plain": [
       "2.0"
      ]
     },
     "execution_count": 69,
     "metadata": {},
     "output_type": "execute_result"
    }
   ],
   "source": [
    "# The float() function takes in an integer or an appropriate string and changes it to a float. \n",
    "float(2)\n",
    "# we’ll get 2.0."
   ]
  },
  {
   "cell_type": "code",
   "execution_count": null,
   "id": "7571cf41",
   "metadata": {},
   "outputs": [
    {
     "data": {
      "text/plain": [
       "'456'"
      ]
     },
     "execution_count": 71,
     "metadata": {},
     "output_type": "execute_result"
    }
   ],
   "source": [
    "# The str() function on the other hand converts an integer or a float to a string\n",
    "str(456) \n",
    "# do you see that its enclosed in 'quotes' which means it a string now"
   ]
  },
  {
   "cell_type": "markdown",
   "id": "92f1d6c3",
   "metadata": {},
   "source": [
    "### Advanced Data-Types in Python"
   ]
  },
  {
   "cell_type": "markdown",
   "id": "5b31556d",
   "metadata": {},
   "source": [
    "| Adv Data-Types | What does it Do | \n",
    "|----------------|-----------------|\n",
    "| List           | List refers to the collections of Data which are normally related |\n",
    "| Tuple          | Tuples are just like List,but you cannot modify their Values, once declared | \n",
    "| Dictionary     | Dictionary is a collection of related data PAIRS { KEY : VALUE }  | "
   ]
  },
  {
   "cell_type": "markdown",
   "id": "25a5fac9",
   "metadata": {},
   "source": [
    "### The List\n",
    "List refers to the collections of data which are normally related. Instead of storing data as separate variables, we can store them as a list.\n",
    "For Instance, suppose our program needs to store the age of 5 Users.\n",
    "Instead of storing them as `user1Age`,`user2Age`,`user3Age` and `user4Age`. It makes more sense to store them as a `List`"
   ]
  },
  {
   "cell_type": "markdown",
   "id": "3c33d842",
   "metadata": {},
   "source": [
    "To Declare a `List`, you write `listName` = `[initial values]`. Note that we use square brackets `[]` when declaring a list.\n",
    "Multiple Values are separated by a comma"
   ]
  },
  {
   "cell_type": "code",
   "execution_count": null,
   "id": "2e38972b",
   "metadata": {},
   "outputs": [
    {
     "name": "stdout",
     "output_type": "stream",
     "text": [
      "[22, 25, 30, 33, 34]\n",
      "['Sanjeev', 'Stephan', 'Alex', 'Murphy', 'Mark']\n"
     ]
    }
   ],
   "source": [
    "# Example of The list\n",
    "userAge = [22,25,30,33,34]\n",
    "\n",
    "# Another List\n",
    "userName = ['Sanjeev','Stephan','Alex','Murphy','Mark']\n",
    "\n",
    "print(userAge)\n",
    "print(userName)"
   ]
  },
  {
   "cell_type": "code",
   "execution_count": null,
   "id": "79dd6ea1",
   "metadata": {},
   "outputs": [
    {
     "name": "stdout",
     "output_type": "stream",
     "text": [
      "['BMW', 'Ford', 'Jeep', 'Tesla']\n"
     ]
    }
   ],
   "source": [
    "# We can also declare a list without assigning any initial values to it. We'll simply write\n",
    "listCars = []\n",
    "# What we have here is an empty `list` with no items in it. We'll use `append()` method to add items to the list.\n",
    "\n",
    "listCars.append(\"BMW\")\n",
    "listCars.append('Ford')\n",
    "listCars.append('Jeep')\n",
    "listCars.append('Tesla')\n",
    "\n",
    "# Let's Print it \n",
    "print(listCars)"
   ]
  },
  {
   "cell_type": "markdown",
   "id": "863e33a2",
   "metadata": {},
   "source": []
  },
  {
   "cell_type": "markdown",
   "id": "c2ebe56a",
   "metadata": {},
   "source": [
    "Individual values in the list are accessible by their indexes, and indexes always start from ZERO, not 1.\n",
    "Hence the first value has an index of 0, the next has an index of 1 and so forth."
   ]
  },
  {
   "cell_type": "code",
   "execution_count": null,
   "id": "43c26e04",
   "metadata": {},
   "outputs": [
    {
     "name": "stdout",
     "output_type": "stream",
     "text": [
      "The Car at Index 0 :  BMW\n",
      "The Car at Index 3 :  Tesla\n"
     ]
    }
   ],
   "source": [
    "# For Instance\n",
    "\n",
    "print(f\"The Car at Index 0 : \", listCars[0])\n",
    "print(f\"The Car at Index 3 : \", listCars[3])"
   ]
  },
  {
   "cell_type": "markdown",
   "id": "ce63e094",
   "metadata": {},
   "source": [
    " To Delete items, we'll write `del listName[index of item to be deleted]`"
   ]
  },
  {
   "cell_type": "code",
   "execution_count": null,
   "id": "87d6c7a7",
   "metadata": {},
   "outputs": [
    {
     "name": "stdout",
     "output_type": "stream",
     "text": [
      "The Item at Index 2 is :  Mustang\n",
      "The Itme which has been deleted is :  Mustang\n"
     ]
    }
   ],
   "source": [
    "# Lets Delete Some itesm\n",
    "print(f\"The Item at Index 2 is : \",listCars[2])\n",
    "# ItemToBeDeleted = listCars[2]\n",
    "# del listCars[2]\n",
    "print(f\"The Itme which has been deleted is : \",listCars[2])"
   ]
  },
  {
   "cell_type": "markdown",
   "id": "a94b43d5",
   "metadata": {},
   "source": [
    "To Modify items in a List, we write `listName[index of item to be modified] = new value.`"
   ]
  },
  {
   "cell_type": "code",
   "execution_count": null,
   "id": "a4ec5966",
   "metadata": {},
   "outputs": [
    {
     "name": "stdout",
     "output_type": "stream",
     "text": [
      "Before Modifying 'listCars[2]` =  ['BMW', 'Ford', 'Mustang', 'Tesla']\n",
      "After Modifying 'listCars[2]`  =  ['BMW', 'Ford', 'Mustang', 'Tesla']\n"
     ]
    }
   ],
   "source": [
    "# Before Modifying \n",
    "print(\"Before Modifying 'listCars[2]` = \",listCars)\n",
    "\n",
    "# Modify list-item \n",
    "listCars[2] = \"Mustang\"\n",
    "\n",
    "print(\"After Modifying 'listCars[2]`  = \",listCars)\n",
    "\n"
   ]
  },
  {
   "cell_type": "code",
   "execution_count": null,
   "id": "c427a6fe",
   "metadata": {},
   "outputs": [
    {
     "name": "stdout",
     "output_type": "stream",
     "text": [
      "The List of Items in 'multipleDataTypeList' : [1, 2, 5, 'Hello', 6.45]\n",
      "The Total Length of the List is : 5\n",
      "The Third Index Item is : Hello\n",
      "The List Index item is : 6.45\n",
      "The List with only Integers Value : [1, 2, 5]\n",
      "List with new Item 'world' : [1, 2, 5, 'Hello', 'World']\n",
      "The List Items After Removal of Last Item : [1, 2, 5, 'Hello']\n"
     ]
    }
   ],
   "source": [
    "# Declaring the List, list elements can be of different data-types \n",
    "multipleDataTypeList = [1,2,5,\"Hello\",6.45]\n",
    "\n",
    "# Print the Entire List\n",
    "print(\"The List of Items in 'multipleDataTypeList' : {}\" .format(multipleDataTypeList))\n",
    "\n",
    "# fetch and store the length of the list \n",
    "total_items_in_the_list = len(multipleDataTypeList)\n",
    "\n",
    "#print the total length of the list\n",
    "print(\"The Total Length of the List is : {}\" .format(total_items_in_the_list))\n",
    "\n",
    "# print the third index item from the list ( index starts from 0)\n",
    "print(\"The Third Index Item is : {}\" .format(multipleDataTypeList[3]))\n",
    "\n",
    "# print the last item without know the index number \n",
    "print(\"The List Index item is : {}\" .format(multipleDataTypeList[-1]))\n",
    "\n",
    "# assign only numbers (from index 0 to 3 ) to the second list 'onlyIntegerList'\n",
    "onlyIntegerList = multipleDataTypeList[0:3]\n",
    "print(\"The List with only Integers Value : {}\" .format(onlyIntegerList))\n",
    "\n",
    "# replace the item at index 4 which is a float with another string 'world'\n",
    "multipleDataTypeList[4] = \"World\"\n",
    "print(\"List with new Item 'world' : {}\" .format(multipleDataTypeList))\n",
    "\n",
    "# get the length of the current list and substract by 1 go remove the last item \n",
    "curent_list_length = len(multipleDataTypeList)\n",
    "index_no_to_remove = curent_list_length - 1\n",
    "\n",
    "# remove the last item from the List and print the update list every-time it is removed\n",
    "del multipleDataTypeList[index_no_to_remove]\n",
    "print(\"The List Items After Removal of Last Item : {}\" .format(multipleDataTypeList))\n",
    "\n",
    "# loop through the list and if 'hello' is found then replace it with 'stephan'\n",
    "\n",
    "\n"
   ]
  },
  {
   "cell_type": "markdown",
   "id": "706da79d",
   "metadata": {},
   "source": [
    "### Tuple\n",
    "Tuples are just like lists, but you cannot modify thier values once initialized.\n",
    "The initial values are the values that will stay for the rest of the program.\n",
    "\n",
    "To declare a tuple, you write `tupleName = (initial values)`.\n",
    "Notice that we use round brackets `( )` when declaring a tuple. \n",
    "Multiple values are separated by a comma."
   ]
  },
  {
   "cell_type": "markdown",
   "id": "39435a83",
   "metadata": {},
   "source": []
  },
  {
   "cell_type": "code",
   "execution_count": null,
   "id": "039a0c6a",
   "metadata": {},
   "outputs": [
    {
     "name": "stdout",
     "output_type": "stream",
     "text": [
      "The Month at Index 0 will be :  Jan\n",
      "The Month at Index -1 will be :  Dec\n"
     ]
    }
   ],
   "source": [
    "#  An example where tuples are useful is when your program needs to store the names of the months of the year.\n",
    "\n",
    "monthsOfTheYear = ('Jan','Feb','March','April','May','June','July','August','Sept','Oct','Nov','Dec')\n",
    "\n",
    "# You access the individual values of a tuple using their indexes, just like with a list.\n",
    "print(f'The Month at Index 0 will be : ', monthsOfTheYear[0] )\n",
    "print(f'The Month at Index -1 will be : ', monthsOfTheYear[-1])\n"
   ]
  },
  {
   "cell_type": "markdown",
   "id": "1292953e",
   "metadata": {},
   "source": []
  },
  {
   "cell_type": "markdown",
   "id": "8e86c638",
   "metadata": {},
   "source": [
    "### Dictionary\n",
    "Dictionary is the collections of related Data PAIRS.\n",
    "For Instance, if we want to store the `username` and `age` of 5 users, we can store them in a dictionary.\n",
    "\n",
    "To declare a dictionary, you write `dictionaryName = { dictionary_key : data }` with the requirement that dictionary keys must be unique (within one dictiaonry)\n",
    "Note : That is, you cannot declare a dictionary like this `myDictionary` = `{ 'Peter' : 30, 'John' : 41 , 'Peter' : 54}`"
   ]
  },
  {
   "cell_type": "code",
   "execution_count": null,
   "id": "6594f708",
   "metadata": {},
   "outputs": [],
   "source": [
    "# Example\n",
    "userBiodata = { 'Peter' : 33 , 'John' : 44 , 'Alexa' : 'Note-Available'}"
   ]
  },
  {
   "cell_type": "markdown",
   "id": "aee6e9ff",
   "metadata": {},
   "source": [
    "This is because “Peter” is used as the dictionary key twice. Note that we\n",
    "use curly brackets { } when declaring a dictionary. Multiple pairs are\n",
    "separated by a comma.\n",
    "\n",
    "##### Syntax\n",
    "\n",
    "| Task                    | Dictionary Syntax |  \n",
    "|-------------------------|-------------------|\n",
    "| Declare using variable  | dictionaryName = { dictionaryKey : data } |\n",
    "| Declare using `dict()`  | dictionaryName = dict(key = value, key = value) | \n",
    "| Access Value            | dictionayrName['key'] |\n",
    "| Modify the Item Value   | dictionaryName[dictionary key of item to be modified] = new data | \n",
    "| Add New Item to `dict()`| dictionaryName['newKey'] = new data | \n",
    "| Delete Existing Key     | del dictionaryName['key'] | "
   ]
  },
  {
   "cell_type": "markdown",
   "id": "5c564278",
   "metadata": {},
   "source": [
    "You can also declare a dictionary using the dict( ) method. To declare\n",
    "the userNameAndAge dictionary above, you write"
   ]
  },
  {
   "cell_type": "code",
   "execution_count": 2,
   "id": "1e422a0c",
   "metadata": {},
   "outputs": [],
   "source": [
    "userNameAndAge = dict(Peter = 38, John = 51, Alex = 13, Alvin = 'Not Available' )\n",
    "\n",
    "# ''' \n",
    "# When you use this method to declare a dictionary, you use round\n",
    "# brackets ( ) instead of curly brackets { } and you do not put quotation\n",
    "# marks for the dictionary keys.\n",
    "# '''\n"
   ]
  },
  {
   "cell_type": "markdown",
   "id": "38451b5b",
   "metadata": {},
   "source": [
    "To access individual items in the dictionary, we use the dictionary key, which is the first value in the `{dictionary key : data} pair`"
   ]
  },
  {
   "cell_type": "code",
   "execution_count": null,
   "id": "22d846f7",
   "metadata": {},
   "outputs": [
    {
     "name": "stdout",
     "output_type": "stream",
     "text": [
      "The Age of `John` is : 51 \n"
     ]
    }
   ],
   "source": [
    "print(\"The Age of `John` is : {} \" .format(userNameAndAge['John']))"
   ]
  },
  {
   "cell_type": "markdown",
   "id": "cf1f1984",
   "metadata": {},
   "source": [
    "TO Modify items in a dictionary, we write `dictionaryName[dictionary key of item to be modified] = new data`."
   ]
  },
  {
   "cell_type": "code",
   "execution_count": null,
   "id": "65f36086",
   "metadata": {},
   "outputs": [
    {
     "name": "stdout",
     "output_type": "stream",
     "text": [
      "Before Making Changes | Dictionary ->  {'Peter': 38, 'John': 51, 'Alex': 13, 'Alvin': 'Not Available'}\n",
      "After Making Changes  | Dictionary ->  {'Peter': 38, 'John': 21, 'Alex': 13, 'Alvin': 'Not Available'}\n"
     ]
    }
   ],
   "source": [
    "print('Before Making Changes | Dictionary -> ', userNameAndAge)\n",
    "# Modify the Value of Key('John') \n",
    "userNameAndAge['John'] = 21\n",
    "print('After Making Changes  | Dictionary -> ', userNameAndAge)"
   ]
  },
  {
   "cell_type": "markdown",
   "id": "9bc1b822",
   "metadata": {},
   "source": [
    "To Add Items to a dictionary, we write `dictionaryName[dictionaryKey] = data`"
   ]
  },
  {
   "cell_type": "code",
   "execution_count": null,
   "id": "8d4a45c6",
   "metadata": {},
   "outputs": [
    {
     "name": "stdout",
     "output_type": "stream",
     "text": [
      "Before Adding New Entry \"Joe\" ->  {'Peter': 38, 'John': 51, 'Alex': 13, 'Alvin': 'Not Available'}\n",
      "After Adding New Entry \"Joe\" ->  {'Peter': 38, 'John': 51, 'Alex': 13, 'Alvin': 'Not Available', 'Joe': 55}\n"
     ]
    }
   ],
   "source": [
    "print('Before Adding New Entry \"Joe\" -> ', userNameAndAge)\n",
    "userNameAndAge['Joe'] = 55\n",
    "print('After Adding New Entry \"Joe\" -> ', userNameAndAge)"
   ]
  },
  {
   "cell_type": "markdown",
   "id": "cefb452e",
   "metadata": {},
   "source": [
    "To Remove Items from a dictionary, we write `del dictionaryName[dictionary-key]`"
   ]
  },
  {
   "cell_type": "code",
   "execution_count": null,
   "id": "9c386240",
   "metadata": {},
   "outputs": [
    {
     "name": "stdout",
     "output_type": "stream",
     "text": [
      "{'Peter': 38, 'John': 51, 'Alex': 13, 'Joe': 55}\n"
     ]
    }
   ],
   "source": [
    "# Remove items from dictioanry\n",
    "del userNameAndAge['Alvin']\n",
    "print(userNameAndAge)"
   ]
  },
  {
   "cell_type": "code",
   "execution_count": 3,
   "id": "a53bce1e",
   "metadata": {},
   "outputs": [
    {
     "name": "stdout",
     "output_type": "stream",
     "text": [
      "Peter\n",
      "John\n",
      "Alex\n",
      "Alvin\n"
     ]
    }
   ],
   "source": [
    "for i in userNameAndAge:\n",
    "    print(i)"
   ]
  },
  {
   "cell_type": "markdown",
   "id": "7c86f286",
   "metadata": {},
   "source": [
    "## Chapter 5 : Making Your Program Interactive"
   ]
  },
  {
   "cell_type": "markdown",
   "id": "6c7d1e3f",
   "metadata": {},
   "source": [
    "Now that we’ve covered the basics of variables, let us write a program\n",
    "that makes use of them.\n",
    "We’ll revisit the “Hello World” program\n",
    "Instead of just saying hello to the world, we want the world to know our names and ages too. In\n",
    "order to do that, our program needs to be able to prompt us for\n",
    "information and display them on the screen."
   ]
  },
  {
   "cell_type": "code",
   "execution_count": null,
   "id": "48c2b33d",
   "metadata": {},
   "outputs": [],
   "source": []
  }
 ],
 "metadata": {
  "kernelspec": {
   "display_name": "Python 3 (ipykernel)",
   "language": "python",
   "name": "python3"
  },
  "language_info": {
   "codemirror_mode": {
    "name": "ipython",
    "version": 3
   },
   "file_extension": ".py",
   "mimetype": "text/x-python",
   "name": "python",
   "nbconvert_exporter": "python",
   "pygments_lexer": "ipython3",
   "version": "3.12.0"
  }
 },
 "nbformat": 4,
 "nbformat_minor": 5
}
