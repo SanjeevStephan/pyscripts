{
 "cells": [
  {
   "cell_type": "markdown",
   "id": "aac24ef3-65cd-417f-802a-2bae57546a87",
   "metadata": {},
   "source": [
    "### Learn Python in One Day and Learn It Well\n",
    "Python for Beginners with Hands-on Project\n",
    "The only book you need to start coding in\n",
    "Python immediately\n",
    "By Jamie Chan"
   ]
  },
  {
   "cell_type": "markdown",
   "id": "3ba78f20-d3b3-4965-9ae0-abc77b391823",
   "metadata": {},
   "source": [
    "## Chapter - 3 : The World of Variables and Operators"
   ]
  },
  {
   "cell_type": "markdown",
   "id": "36f8a959-ae81-4aa9-a793-4b63315b6bc8",
   "metadata": {},
   "source": [
    "### What Are Variable ?\n",
    "Variables are names given to data that we need to store and manipulate \n",
    "in our program\n",
    "userAge = 18\r",
    "After you define the variable userAge, your program will allocate a \n",
    "certain area of your computer's storage space to store this data\n",
    " You ca \r\n",
    "then access and modify this data by referring to it by its name, userAge.\r\n",
    "Every time you declare a new variable, you need to give it an initial va.\n",
    "We can always change this value \n",
    "in our program later.\r",
    "lues"
   ]
  },
  {
   "cell_type": "markdown",
   "id": "0d3ad9e5-262e-4b5a-b384-901d206471c9",
   "metadata": {},
   "source": [
    "We can also define multiple variables at one go. To do that simply write"
   ]
  },
  {
   "cell_type": "code",
   "execution_count": 18,
   "id": "614514ab-d4e1-45dd-862c-2f76a8fe3307",
   "metadata": {},
   "outputs": [
    {
     "name": "stdout",
     "output_type": "stream",
     "text": [
      "User Age :  25\n",
      "User Name :  Stephan\n"
     ]
    }
   ],
   "source": [
    "userAge, userName = 25, 'Stephan'\n",
    "# This is Equivalent to \n",
    "# userAge = 30\n",
    "# userName = 'Stephan'\n",
    "print(\"User Age : \", userAge)\n",
    "print(\"User Name : \", userName)"
   ]
  },
  {
   "cell_type": "markdown",
   "id": "9ebd2c3b-35a6-4e6d-959d-9d95261f4c49",
   "metadata": {},
   "source": [
    "### Naming a Variable\n",
    "Finally, variable names are case sensitive. username is not the same as \n",
    "userName."
   ]
  },
  {
   "cell_type": "code",
   "execution_count": 19,
   "id": "153b8ed5-eb49-4b37-b99a-b01f50b6a94e",
   "metadata": {},
   "outputs": [
    {
     "name": "stdout",
     "output_type": "stream",
     "text": [
      "username :  Sanjeev\n",
      "userName :  Stephan\n"
     ]
    }
   ],
   "source": [
    "username = 'Sanjeev'\n",
    "userName = 'Stephan'\n",
    "\n",
    "print('username : ',username)\n",
    "print('userName : ',userName)\n"
   ]
  },
  {
   "cell_type": "markdown",
   "id": "15da0f72-96d1-4995-ae98-e2cf7406587c",
   "metadata": {},
   "source": [
    "There are two conventions when naming a variable in Python\n",
    "* Camel case-notion\n",
    "* Underscores"
   ]
  },
  {
   "cell_type": "markdown",
   "id": "7bf18324-4101-4462-9518-412a197817ec",
   "metadata": {},
   "source": [
    "| Camel Case | Underscores |\n",
    "|------------|-------------|\n",
    "| thisIsAVariable | this_is_a_variable | \n"
   ]
  },
  {
   "cell_type": "markdown",
   "id": "b90709c7-dffc-4981-9f41-c4c4ec13c09b",
   "metadata": {},
   "source": [
    "### The Assignment Sign\n",
    "Note that the = sign in the statement userAge = 0 has a different\r\n",
    "meaning from the = sign we learned in Math.\n",
    " In programming, the = sign\r\n",
    "is known as an assignment sign. It means we are assigning the value on\r\n",
    "the right side of the = sign to the variable on the le\n",
    "t. A good way to\r\n",
    "understand the statement userAge = 0 is to think of it as userAg  <-\r\n",
    "0.\r\n",
    "The statements x = y and y = x have very different meanings in\r\n",
    "programming.\r\n",
    "Confused? An example will likely clear this up."
   ]
  },
  {
   "cell_type": "code",
   "execution_count": 23,
   "id": "842e2e6e-1471-4529-9338-bd13122d8e66",
   "metadata": {},
   "outputs": [
    {
     "name": "stdout",
     "output_type": "stream",
     "text": [
      "The Value of 'x' is  10\n",
      "The Value of 'y' is  10\n"
     ]
    }
   ],
   "source": [
    "x = 5\n",
    "y = 10\n",
    "x = y \n",
    "print(f\"The Value of 'x' is \",x)\n",
    "print(f\"The Value of 'y' is \",y)\n",
    "# Now run the program. You should get this output \n",
    "# By Pressing ( Shift + Enter ) in Jupyter-Notebooks"
   ]
  },
  {
   "cell_type": "markdown",
   "id": "08023351-7981-4752-aeeb-a976e571058c",
   "metadata": {},
   "source": [
    "Although x has an initial value of 5 (declared on the first line), the third\n",
    "line x = y assigns the value of y to x (x <- y), hence changing the\n",
    "value of x to 10 while the value of y remains unchanged"
   ]
  },
  {
   "cell_type": "code",
   "execution_count": 21,
   "id": "37a66d56-1959-40c3-b00b-1d4c49c26dfc",
   "metadata": {},
   "outputs": [
    {
     "name": "stdout",
     "output_type": "stream",
     "text": [
      "The Value of x is a the Same  5\n",
      "The Value of y is Changed to  5\n"
     ]
    }
   ],
   "source": [
    "#  Change the third line from x = y to y = x. \n",
    "# Mathematically, x = y and y = x mean the same thing. However, this is not so in programming.\n",
    "x = 5 \n",
    "y = 10\n",
    "y = x\n",
    "print(f\"The Value of x is a the Same \", x )\n",
    "print(f\"The Value of y is Changed to \", y )"
   ]
  },
  {
   "cell_type": "markdown",
   "id": "43072a5d-bb7c-4cfd-9dd7-18f6b9c4ec14",
   "metadata": {},
   "source": [
    "### Basic Operators\n",
    "Besides assigning a variable an initial value, we can also perform the usual mathematical operations on variables. \n",
    "Basic operators in Python include \n",
    "| Operators     | Signs Used | \n",
    "|---------------|------------|\n",
    "| Addition      | ( + )      |\n",
    "| Substraction  | ( - )      |\n",
    "| Multiplication| ( * )      |\n",
    "| Division      | ( / )      |\n",
    "| Modulus       | ( % )      |\n",
    "| Exponent      | ( ** )     |\n",
    "\n",
    "\n",
    "* Floor Division: x//y = 2 (rounds down the answer to the nearest whole number)\n",
    "* Modulus: x%y = 1 (gives the remainder when 5 is divided by 2)\n",
    "* Exponent: x**y = 25 (5 to the power of 2)\n",
    "\n"
   ]
  },
  {
   "cell_type": "markdown",
   "id": "0df6a865-ae2f-4f32-87b3-ae61f8726254",
   "metadata": {},
   "source": [
    "### More Assignment Operators\n",
    "\n",
    "Besides the = sign, there are a few more assignment operators in Python \n",
    "(and most programming languages\n",
    "\n",
    "| More Assisgnment Operators | Signs | Same As   | \n",
    "|----------------------------|-------|-----------|\n",
    "|         Add To             |  +=   | X = X + 2 |\n",
    "|      Substract From        |  -=   | X = X - 2 |\n",
    "|      Multiply From         |  *=   | X = X * 2 |\n",
    "|      Divide From           |  /=   | X = X / 2 |\n",
    "\n",
    "The same works for all the 7 operators mentioned in the previous section.e\n",
    ")"
   ]
  },
  {
   "cell_type": "markdown",
   "id": "e23f0d54-d03c-492c-b618-64592c5143b9",
   "metadata": {},
   "source": [
    "## Data-Types in Python\n",
    "\n",
    "Basic Data-Types\n",
    "* Integers\n",
    "* Float\n",
    "* Strings\n",
    "* Double\n",
    "\n",
    "Advanced Data-Types\n",
    "* List\n",
    "* Tuple\n",
    "* Dictionary"
   ]
  },
  {
   "cell_type": "markdown",
   "id": "0a891dea-179f-47cb-a687-d1eb4d76bf7e",
   "metadata": {},
   "source": [
    "### Integers \n",
    "Integers are numbers with no decimal parts, such as -5, -4, -3, 0, 5, 7 etc"
   ]
  },
  {
   "cell_type": "code",
   "execution_count": 27,
   "id": "bd818126-edcf-41eb-9fc3-ac9b8aafdb86",
   "metadata": {},
   "outputs": [
    {
     "name": "stdout",
     "output_type": "stream",
     "text": [
      "The Value of 'userAge'  :  20\n",
      "The Value of 'mobileNumber:  987654321\n"
     ]
    }
   ],
   "source": [
    "# To declare an integer in Python, simply write \n",
    "# variableName  = initial value\n",
    "\n",
    "userAge = 20\n",
    "mobileNumber = 987654321\n",
    "\n",
    "print(\"The Value of 'userAge'  : \" , userAge)\n",
    "print(\"The Value of 'mobileNumber: \", mobileNumber)"
   ]
  },
  {
   "cell_type": "markdown",
   "id": "4a52f642-7ea9-4477-8f88-2af0af2022e0",
   "metadata": {},
   "source": [
    "### Float\n",
    "Float refers to numbers that have decimal parts, such as 1.234, -0.023, \n",
    "12.01"
   ]
  },
  {
   "cell_type": "code",
   "execution_count": 28,
   "id": "c700de31-aa51-4021-afd4-ac330c52b9ee",
   "metadata": {},
   "outputs": [],
   "source": [
    "# Example\n",
    "userHeight = 1.82 \n",
    "userWeight =  67.2"
   ]
  },
  {
   "cell_type": "markdown",
   "id": "66a1d74f-c8be-4e16-87d6-61d136d3c540",
   "metadata": {},
   "source": [
    "### String\n",
    "String refres to Text."
   ]
  },
  {
   "cell_type": "code",
   "execution_count": 29,
   "id": "a66101e5-800d-4b00-a303-df117abcf154",
   "metadata": {},
   "outputs": [],
   "source": [
    "# To declare a string, you can either use\n",
    "variableName = 'initial value' # ( Single Quotes )\n",
    "variableName = \"Initial Value\" # ( Double Quotes )"
   ]
  },
  {
   "cell_type": "code",
   "execution_count": 36,
   "id": "6ba579f7-d836-42ec-9a76-c88669dbf76e",
   "metadata": {},
   "outputs": [
    {
     "name": "stdout",
     "output_type": "stream",
     "text": [
      "The Data-Type of userAge = 30 is  <class 'int'>\n",
      "The Data-Type of userAge = '30' is <class 'str'>\n"
     ]
    }
   ],
   "source": [
    "# Examples \n",
    "userName = \"Stephan\"\n",
    "userOS  = \" Kali Linux\"\n",
    "\n",
    "userAge = 30 # Integer -> without-quotes ( ' ' )\n",
    "print(f\"The Data-Type of userAge = 30 is \",type(userAge))\n",
    "userAge = '30' # Strings -> with-quotes ( ' ' )\n",
    "print(f\"The Data-Type of userAge = '30' is\", type(userAge))"
   ]
  },
  {
   "cell_type": "markdown",
   "id": "cad26119-9711-45ec-9378-3684e22f7b22",
   "metadata": {},
   "source": [
    "#### Formatting Strings using the % Operator"
   ]
  },
  {
   "cell_type": "code",
   "execution_count": 42,
   "id": "f6c836a8-549b-42ee-8ef5-4c7b9dde810e",
   "metadata": {},
   "outputs": [
    {
     "name": "stdout",
     "output_type": "stream",
     "text": [
      "The price of this Apple laptop is 1299 USD and the exchange rate is 1.24 USD to 1 EUR\n"
     ]
    }
   ],
   "source": [
    "brand = 'Apple'\n",
    "exchangeRate = 1.235235245\n",
    "message = 'The price of this %s laptop is %d USD and the exchange rate is %4.2f USD to 1 EUR' %(brand, 1299, exchangeRate)\n",
    "print (message)\n"
   ]
  },
  {
   "cell_type": "markdown",
   "id": "3ae13b24-b3d9-44eb-9a52-4918b4738a90",
   "metadata": {},
   "source": [
    "The %s formatter is used to represent a string (“Apple” in this case) while\n",
    "the %d formatter represents an integer (1299). If we want to add spaces\n",
    "before an integer, we can add a number between % and d to indicate the\n",
    "desired length of the string. For instance “%5d” %(123) will give us “\n",
    "123” (with 2 spaces in front and a total length of 5).\n"
   ]
  },
  {
   "cell_type": "markdown",
   "id": "e3c42bd5-40c1-42b1-a990-1f40f4bf15d6",
   "metadata": {},
   "source": [
    "#### Built-in Strings Functions\n",
    "Python includes a number of built-in functions to manipulate strings. A\n",
    "function is simply a block of reusable code that performs a certain task"
   ]
  },
  {
   "cell_type": "code",
   "execution_count": 45,
   "id": "e5a0cde3-16aa-40c3-bcd9-0ed5d723186e",
   "metadata": {},
   "outputs": [],
   "source": [
    "# Lets look all the Built-in Strings Functions\n",
    "userName = 'sanjeev stephan'"
   ]
  },
  {
   "cell_type": "code",
   "execution_count": 47,
   "id": "114ddb67-74db-4625-90f5-64cc861b6cd0",
   "metadata": {},
   "outputs": [
    {
     "data": {
      "text/plain": [
       "15"
      ]
     },
     "execution_count": 47,
     "metadata": {},
     "output_type": "execute_result"
    }
   ],
   "source": [
    "# 1. len(Strings ) -> Returns the length (the number of characters) of a string.\n",
    "len(userName)"
   ]
  },
  {
   "cell_type": "code",
   "execution_count": 46,
   "id": "598384bb-bd29-4955-9370-e9d7b587f41f",
   "metadata": {},
   "outputs": [
    {
     "data": {
      "text/plain": [
       "'SANJEEV STEPHAN'"
      ]
     },
     "execution_count": 46,
     "metadata": {},
     "output_type": "execute_result"
    }
   ],
   "source": [
    "# 2. string.upper() -> Returns a copy of the string with all characters in uppercase.\n",
    "userName.upper()"
   ]
  },
  {
   "cell_type": "code",
   "execution_count": 48,
   "id": "541d44c3-5ee7-47b1-97d4-f9b07b5e7570",
   "metadata": {},
   "outputs": [
    {
     "data": {
      "text/plain": [
       "'sanjeev stephan'"
      ]
     },
     "execution_count": 48,
     "metadata": {},
     "output_type": "execute_result"
    }
   ],
   "source": [
    "# 3. string.lower(): Returns a copy of the string with all characters in lowercase.\n",
    "userName.lower()"
   ]
  },
  {
   "cell_type": "code",
   "execution_count": 50,
   "id": "661ef598-a60c-4001-99bf-f0076c0e3c00",
   "metadata": {},
   "outputs": [
    {
     "data": {
      "text/plain": [
       "'Sanjeev stephan'"
      ]
     },
     "execution_count": 50,
     "metadata": {},
     "output_type": "execute_result"
    }
   ],
   "source": [
    "# 4 string.capitalize(): Returns a copy of the string with the first character capitalized and the rest in lowercase.\n",
    "userName.capitalize()"
   ]
  },
  {
   "cell_type": "code",
   "execution_count": 53,
   "id": "260bcfd2-fae8-4b4a-9ac5-ee64a80ab454",
   "metadata": {},
   "outputs": [
    {
     "data": {
      "text/plain": [
       "'Sanjeev Stephan'"
      ]
     },
     "execution_count": 53,
     "metadata": {},
     "output_type": "execute_result"
    }
   ],
   "source": [
    "# 5. string.title(): Returns a copy of the string with the first character of each word capitalized and the rest in lowercase.\n",
    "userName.title()"
   ]
  },
  {
   "cell_type": "code",
   "execution_count": 73,
   "id": "cf7a6696-1bad-4c18-8d1c-f537605be78f",
   "metadata": {},
   "outputs": [
    {
     "name": "stdout",
     "output_type": "stream",
     "text": [
      "Without '%' on both sides :   lamborgini \n",
      "Without ' ' on both sides :  lamborgini\n"
     ]
    }
   ],
   "source": [
    "# 6. string.strip([characters]): Returns a copy of the string with leading and trailing characters removed (default is whitespace).\n",
    "carName = \"% lamborgini %\"\n",
    "percentageStripped = carName.strip(\"%\")\n",
    "print(\"Without '%' on both sides : \",percentageStripped)\n",
    "whiteSpaceStripped = percentageStripped.strip()\n",
    "print(\"Without ' ' on both sides : \",whiteSpaceStripped)"
   ]
  },
  {
   "cell_type": "code",
   "execution_count": 76,
   "id": "86e5be02-bb5e-4fba-a1ce-10e03c12159e",
   "metadata": {},
   "outputs": [
    {
     "name": "stdout",
     "output_type": "stream",
     "text": [
      "Remove '%' from Leading-Side :   lamborgini %\n"
     ]
    }
   ],
   "source": [
    "# 7. string.lstrip([characters]): Returns a copy of the string with leading characters removed (default is whitespace).\n",
    "print(\"Remove '%' from Leading-Side : \", carName.lstrip(\"%\"))"
   ]
  },
  {
   "cell_type": "code",
   "execution_count": 77,
   "id": "7d561617-7417-4b72-812e-8e75f65b4fff",
   "metadata": {},
   "outputs": [
    {
     "name": "stdout",
     "output_type": "stream",
     "text": [
      "Remove '%' from Trailing-Side :  % lamborgini \n"
     ]
    }
   ],
   "source": [
    "# 7. string.rstrip([characters]): Returns a copy of the string with trailing characters removed (default is whitespace).\n",
    "print(\"Remove '%' from Trailing-Side : \", carName.rstrip(\"%\"))"
   ]
  },
  {
   "cell_type": "code",
   "execution_count": 96,
   "id": "56da6faa-158e-4d1f-848a-983bf0709e49",
   "metadata": {},
   "outputs": [
    {
     "name": "stdout",
     "output_type": "stream",
     "text": [
      "Before 'carName.replace(old,new)' :  %%%% % %%% lamborgini aventador % % %%% \n",
      "After  'carName.replace(old,new) :     lamborgini aventador    \n",
      "With    Spaces :    lamborgini aventador    \n",
      "Without Spaces : lamborginiaventador\n"
     ]
    }
   ],
   "source": [
    "# 8. string.replace(old, new): Replaces all occurrences of the old substring with the new substring (default is all occurrences)\n",
    "carName = \"%%%% % %%% lamborgini aventador % % %%% \"\n",
    "print(\"Before 'carName.replace(old,new)' : \",carName)\n",
    "percentageRemoved = carName.replace('%','')\n",
    "print(\"After  'carName.replace(old,new) : \", percentageRemoved )\n",
    "spaceRemoved = percentageRemoved.replace(' ','')\n",
    "print(\"With    Spaces :\", percentageRemoved )\n",
    "print(\"Without Spaces :\", spaceRemoved )"
   ]
  },
  {
   "cell_type": "code",
   "execution_count": null,
   "id": "c3dda0b4-015b-47b8-9cab-cbfc0914088d",
   "metadata": {},
   "outputs": [],
   "source": []
  },
  {
   "cell_type": "code",
   "execution_count": null,
   "id": "251f5f51-76de-4b4c-936d-abfc4e4a659c",
   "metadata": {},
   "outputs": [],
   "source": []
  }
 ],
 "metadata": {
  "kernelspec": {
   "display_name": "Python 3 (ipykernel)",
   "language": "python",
   "name": "python3"
  },
  "language_info": {
   "codemirror_mode": {
    "name": "ipython",
    "version": 3
   },
   "file_extension": ".py",
   "mimetype": "text/x-python",
   "name": "python",
   "nbconvert_exporter": "python",
   "pygments_lexer": "ipython3",
   "version": "3.8.17"
  }
 },
 "nbformat": 4,
 "nbformat_minor": 5
}
